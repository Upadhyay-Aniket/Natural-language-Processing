{
  "nbformat": 4,
  "nbformat_minor": 0,
  "metadata": {
    "colab": {
      "provenance": []
    },
    "kernelspec": {
      "name": "python3",
      "display_name": "Python 3"
    },
    "language_info": {
      "name": "python"
    }
  },
  "cells": [
    {
      "cell_type": "markdown",
      "source": [
        "The nlp object"
      ],
      "metadata": {
        "id": "uzzqGIkKuGSP"
      }
    },
    {
      "cell_type": "code",
      "execution_count": 1,
      "metadata": {
        "id": "j6xzT8WVtu0R"
      },
      "outputs": [],
      "source": [
        "# Import spaCy\n",
        "import spacy\n",
        "\n",
        "# Create a blank English nlp object\n",
        "nlp = spacy.blank(\"en\")"
      ]
    },
    {
      "cell_type": "markdown",
      "source": [
        "The Doc object\n"
      ],
      "metadata": {
        "id": "CPfEkknDuJuP"
      }
    },
    {
      "cell_type": "code",
      "source": [
        "# Created by processing a string of text with the nlp object\n",
        "doc = nlp(\"Hello world!\")\n",
        "\n",
        "# Iterate over tokens in a Doc\n",
        "for token in doc:\n",
        "    print(token.text)"
      ],
      "metadata": {
        "colab": {
          "base_uri": "https://localhost:8080/"
        },
        "id": "u9GvtPGLt9Ex",
        "outputId": "fa508b7c-26d5-4613-9e5d-dac3b9487301"
      },
      "execution_count": 2,
      "outputs": [
        {
          "output_type": "stream",
          "name": "stdout",
          "text": [
            "Hello\n",
            "world\n",
            "!\n"
          ]
        }
      ]
    },
    {
      "cell_type": "markdown",
      "source": [
        "The Token object\n"
      ],
      "metadata": {
        "id": "0LajChsruVMd"
      }
    },
    {
      "cell_type": "code",
      "source": [
        "doc = nlp(\"Hello world!\")\n",
        "\n",
        "# Index into the Doc to get a single Token\n",
        "token = doc[1]\n",
        "\n",
        "# Get the token text via the .text attribute\n",
        "print(token.text)"
      ],
      "metadata": {
        "colab": {
          "base_uri": "https://localhost:8080/"
        },
        "id": "vFgiVdhxuUle",
        "outputId": "67265b02-f5c5-48eb-a95b-bd22b30f1c90"
      },
      "execution_count": 7,
      "outputs": [
        {
          "output_type": "stream",
          "name": "stdout",
          "text": [
            "world\n"
          ]
        }
      ]
    },
    {
      "cell_type": "markdown",
      "source": [
        "The Span object"
      ],
      "metadata": {
        "id": "g95zTxZOumAt"
      }
    },
    {
      "cell_type": "code",
      "source": [
        "doc = nlp(\"Hello world!\")\n",
        "\n",
        "# A slice from the Doc is a Span object\n",
        "span = doc[1:3]\n",
        "\n",
        "# Get the span text via the .text attribute\n",
        "print(span.text)\n"
      ],
      "metadata": {
        "colab": {
          "base_uri": "https://localhost:8080/"
        },
        "id": "7RNScTn9urmT",
        "outputId": "770f9c1c-c4de-4e0a-9b27-8891fec50a16"
      },
      "execution_count": 8,
      "outputs": [
        {
          "output_type": "stream",
          "name": "stdout",
          "text": [
            "world!\n"
          ]
        }
      ]
    },
    {
      "cell_type": "markdown",
      "source": [
        "Lexical Attributes\n",
        "\n",
        "the output of this code will provide information about each token in the processed document, including its index, text, whether it consists of alphabetical characters only (is_alpha), whether it is a punctuation mark (is_punct), and whether it resembles a number (like_num)."
      ],
      "metadata": {
        "id": "wJsyMwPWu55U"
      }
    },
    {
      "cell_type": "code",
      "source": [
        "doc = nlp(\"It costs $5.\")\n",
        "print(\"Index:   \", [token.i for token in doc])\n",
        "print(\"Text:    \", [token.text for token in doc])\n",
        "\n",
        "print(\"is_alpha:\", [token.is_alpha for token in doc])\n",
        "print(\"is_punct:\", [token.is_punct for token in doc])\n",
        "print(\"like_num:\", [token.like_num for token in doc])"
      ],
      "metadata": {
        "colab": {
          "base_uri": "https://localhost:8080/"
        },
        "id": "_XcljJzCu7Tl",
        "outputId": "6a32c73a-44a1-496f-c167-206f7275da9e"
      },
      "execution_count": 9,
      "outputs": [
        {
          "output_type": "stream",
          "name": "stdout",
          "text": [
            "Index:    [0, 1, 2, 3, 4]\n",
            "Text:     ['It', 'costs', '$', '5', '.']\n",
            "is_alpha: [True, True, False, False, False]\n",
            "is_punct: [False, False, False, False, True]\n",
            "like_num: [False, False, False, True, False]\n"
          ]
        }
      ]
    }
  ]
}